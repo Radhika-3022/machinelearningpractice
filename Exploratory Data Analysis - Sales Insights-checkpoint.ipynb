{
 "cells": [
  {
   "cell_type": "markdown",
   "id": "4513ddfa",
   "metadata": {},
   "source": [
    "#### 1. Importing the necessary libraries"
   ]
  },
  {
   "cell_type": "code",
   "execution_count": 206,
   "id": "2cb86113",
   "metadata": {},
   "outputs": [],
   "source": [
    "import pandas as pd\n",
    "import numpy as np\n",
    "import matplotlib.pyplot as plt\n",
    "import seaborn as sns"
   ]
  },
  {
   "cell_type": "markdown",
   "id": "b18af819",
   "metadata": {},
   "source": [
    "#### 2.Loading the dataset"
   ]
  },
  {
   "cell_type": "code",
   "execution_count": 201,
   "id": "59bf56d1",
   "metadata": {},
   "outputs": [
    {
     "data": {
      "text/html": [
       "<div>\n",
       "<style scoped>\n",
       "    .dataframe tbody tr th:only-of-type {\n",
       "        vertical-align: middle;\n",
       "    }\n",
       "\n",
       "    .dataframe tbody tr th {\n",
       "        vertical-align: top;\n",
       "    }\n",
       "\n",
       "    .dataframe thead th {\n",
       "        text-align: right;\n",
       "    }\n",
       "</style>\n",
       "<table border=\"1\" class=\"dataframe\">\n",
       "  <thead>\n",
       "    <tr style=\"text-align: right;\">\n",
       "      <th></th>\n",
       "      <th>InvoiceNo</th>\n",
       "      <th>StockCode</th>\n",
       "      <th>Description</th>\n",
       "      <th>Quantity</th>\n",
       "      <th>InvoiceDate</th>\n",
       "      <th>UnitPrice</th>\n",
       "      <th>CustomerID</th>\n",
       "      <th>Country</th>\n",
       "    </tr>\n",
       "  </thead>\n",
       "  <tbody>\n",
       "    <tr>\n",
       "      <th>0</th>\n",
       "      <td>536365</td>\n",
       "      <td>85123A</td>\n",
       "      <td>WHITE HANGING HEART T-LIGHT HOLDER</td>\n",
       "      <td>6</td>\n",
       "      <td>2010-12-01 08:26:00</td>\n",
       "      <td>2.55</td>\n",
       "      <td>17850.0</td>\n",
       "      <td>United Kingdom</td>\n",
       "    </tr>\n",
       "    <tr>\n",
       "      <th>1</th>\n",
       "      <td>536365</td>\n",
       "      <td>71053</td>\n",
       "      <td>WHITE METAL LANTERN</td>\n",
       "      <td>6</td>\n",
       "      <td>2010-12-01 08:26:00</td>\n",
       "      <td>3.39</td>\n",
       "      <td>17850.0</td>\n",
       "      <td>United Kingdom</td>\n",
       "    </tr>\n",
       "    <tr>\n",
       "      <th>2</th>\n",
       "      <td>536365</td>\n",
       "      <td>84406B</td>\n",
       "      <td>CREAM CUPID HEARTS COAT HANGER</td>\n",
       "      <td>8</td>\n",
       "      <td>2010-12-01 08:26:00</td>\n",
       "      <td>2.75</td>\n",
       "      <td>17850.0</td>\n",
       "      <td>United Kingdom</td>\n",
       "    </tr>\n",
       "    <tr>\n",
       "      <th>3</th>\n",
       "      <td>536365</td>\n",
       "      <td>84029G</td>\n",
       "      <td>KNITTED UNION FLAG HOT WATER BOTTLE</td>\n",
       "      <td>6</td>\n",
       "      <td>2010-12-01 08:26:00</td>\n",
       "      <td>3.39</td>\n",
       "      <td>17850.0</td>\n",
       "      <td>United Kingdom</td>\n",
       "    </tr>\n",
       "    <tr>\n",
       "      <th>4</th>\n",
       "      <td>536365</td>\n",
       "      <td>84029E</td>\n",
       "      <td>RED WOOLLY HOTTIE WHITE HEART.</td>\n",
       "      <td>6</td>\n",
       "      <td>2010-12-01 08:26:00</td>\n",
       "      <td>3.39</td>\n",
       "      <td>17850.0</td>\n",
       "      <td>United Kingdom</td>\n",
       "    </tr>\n",
       "  </tbody>\n",
       "</table>\n",
       "</div>"
      ],
      "text/plain": [
       "  InvoiceNo StockCode                          Description  Quantity  \\\n",
       "0    536365    85123A   WHITE HANGING HEART T-LIGHT HOLDER         6   \n",
       "1    536365     71053                  WHITE METAL LANTERN         6   \n",
       "2    536365    84406B       CREAM CUPID HEARTS COAT HANGER         8   \n",
       "3    536365    84029G  KNITTED UNION FLAG HOT WATER BOTTLE         6   \n",
       "4    536365    84029E       RED WOOLLY HOTTIE WHITE HEART.         6   \n",
       "\n",
       "          InvoiceDate  UnitPrice  CustomerID         Country  \n",
       "0 2010-12-01 08:26:00       2.55     17850.0  United Kingdom  \n",
       "1 2010-12-01 08:26:00       3.39     17850.0  United Kingdom  \n",
       "2 2010-12-01 08:26:00       2.75     17850.0  United Kingdom  \n",
       "3 2010-12-01 08:26:00       3.39     17850.0  United Kingdom  \n",
       "4 2010-12-01 08:26:00       3.39     17850.0  United Kingdom  "
      ]
     },
     "execution_count": 201,
     "metadata": {},
     "output_type": "execute_result"
    }
   ],
   "source": [
    "df=pd.read_excel(r'C:\\Users\\Radhika\\Downloads\\online+retail\\Online Retail.xlsx')\n",
    "df.head()"
   ]
  },
  {
   "cell_type": "code",
   "execution_count": 202,
   "id": "d3fb8aa2",
   "metadata": {},
   "outputs": [
    {
     "name": "stdout",
     "output_type": "stream",
     "text": [
      "<class 'pandas.core.frame.DataFrame'>\n",
      "RangeIndex: 541909 entries, 0 to 541908\n",
      "Data columns (total 8 columns):\n",
      " #   Column       Non-Null Count   Dtype         \n",
      "---  ------       --------------   -----         \n",
      " 0   InvoiceNo    541909 non-null  object        \n",
      " 1   StockCode    541909 non-null  object        \n",
      " 2   Description  540455 non-null  object        \n",
      " 3   Quantity     541909 non-null  int64         \n",
      " 4   InvoiceDate  541909 non-null  datetime64[ns]\n",
      " 5   UnitPrice    541909 non-null  float64       \n",
      " 6   CustomerID   406829 non-null  float64       \n",
      " 7   Country      541909 non-null  object        \n",
      "dtypes: datetime64[ns](1), float64(2), int64(1), object(4)\n",
      "memory usage: 33.1+ MB\n"
     ]
    }
   ],
   "source": [
    "df.info()"
   ]
  },
  {
   "cell_type": "markdown",
   "id": "3737d161",
   "metadata": {},
   "source": [
    "###### Checking the various attributes of data like no. of rows and columns(shape), datatypes of the columns etc.,"
   ]
  },
  {
   "cell_type": "code",
   "execution_count": 108,
   "id": "6eb273b8",
   "metadata": {},
   "outputs": [
    {
     "data": {
      "text/plain": [
       "(541909, 8)"
      ]
     },
     "execution_count": 108,
     "metadata": {},
     "output_type": "execute_result"
    }
   ],
   "source": [
    "df.shape"
   ]
  },
  {
   "cell_type": "code",
   "execution_count": 109,
   "id": "c94160d5",
   "metadata": {},
   "outputs": [
    {
     "data": {
      "text/plain": [
       "array(['InvoiceNo', 'StockCode', 'Description', 'Quantity', 'InvoiceDate',\n",
       "       'UnitPrice', 'CustomerID', 'Country'], dtype=object)"
      ]
     },
     "execution_count": 109,
     "metadata": {},
     "output_type": "execute_result"
    }
   ],
   "source": [
    "df.columns.values"
   ]
  },
  {
   "cell_type": "code",
   "execution_count": 110,
   "id": "9f3632e9",
   "metadata": {},
   "outputs": [
    {
     "data": {
      "text/plain": [
       "InvoiceNo              object\n",
       "StockCode              object\n",
       "Description            object\n",
       "Quantity                int64\n",
       "InvoiceDate    datetime64[ns]\n",
       "UnitPrice             float64\n",
       "CustomerID            float64\n",
       "Country                object\n",
       "dtype: object"
      ]
     },
     "execution_count": 110,
     "metadata": {},
     "output_type": "execute_result"
    }
   ],
   "source": [
    "df.dtypes"
   ]
  },
  {
   "cell_type": "code",
   "execution_count": 111,
   "id": "39982f27",
   "metadata": {},
   "outputs": [
    {
     "data": {
      "text/html": [
       "<div>\n",
       "<style scoped>\n",
       "    .dataframe tbody tr th:only-of-type {\n",
       "        vertical-align: middle;\n",
       "    }\n",
       "\n",
       "    .dataframe tbody tr th {\n",
       "        vertical-align: top;\n",
       "    }\n",
       "\n",
       "    .dataframe thead th {\n",
       "        text-align: right;\n",
       "    }\n",
       "</style>\n",
       "<table border=\"1\" class=\"dataframe\">\n",
       "  <thead>\n",
       "    <tr style=\"text-align: right;\">\n",
       "      <th></th>\n",
       "      <th>Quantity</th>\n",
       "      <th>UnitPrice</th>\n",
       "      <th>CustomerID</th>\n",
       "    </tr>\n",
       "  </thead>\n",
       "  <tbody>\n",
       "    <tr>\n",
       "      <th>count</th>\n",
       "      <td>541909.000000</td>\n",
       "      <td>541909.000000</td>\n",
       "      <td>406829.000000</td>\n",
       "    </tr>\n",
       "    <tr>\n",
       "      <th>mean</th>\n",
       "      <td>9.552250</td>\n",
       "      <td>4.611114</td>\n",
       "      <td>15287.690570</td>\n",
       "    </tr>\n",
       "    <tr>\n",
       "      <th>std</th>\n",
       "      <td>218.081158</td>\n",
       "      <td>96.759853</td>\n",
       "      <td>1713.600303</td>\n",
       "    </tr>\n",
       "    <tr>\n",
       "      <th>min</th>\n",
       "      <td>-80995.000000</td>\n",
       "      <td>-11062.060000</td>\n",
       "      <td>12346.000000</td>\n",
       "    </tr>\n",
       "    <tr>\n",
       "      <th>25%</th>\n",
       "      <td>1.000000</td>\n",
       "      <td>1.250000</td>\n",
       "      <td>13953.000000</td>\n",
       "    </tr>\n",
       "    <tr>\n",
       "      <th>50%</th>\n",
       "      <td>3.000000</td>\n",
       "      <td>2.080000</td>\n",
       "      <td>15152.000000</td>\n",
       "    </tr>\n",
       "    <tr>\n",
       "      <th>75%</th>\n",
       "      <td>10.000000</td>\n",
       "      <td>4.130000</td>\n",
       "      <td>16791.000000</td>\n",
       "    </tr>\n",
       "    <tr>\n",
       "      <th>max</th>\n",
       "      <td>80995.000000</td>\n",
       "      <td>38970.000000</td>\n",
       "      <td>18287.000000</td>\n",
       "    </tr>\n",
       "  </tbody>\n",
       "</table>\n",
       "</div>"
      ],
      "text/plain": [
       "            Quantity      UnitPrice     CustomerID\n",
       "count  541909.000000  541909.000000  406829.000000\n",
       "mean        9.552250       4.611114   15287.690570\n",
       "std       218.081158      96.759853    1713.600303\n",
       "min    -80995.000000  -11062.060000   12346.000000\n",
       "25%         1.000000       1.250000   13953.000000\n",
       "50%         3.000000       2.080000   15152.000000\n",
       "75%        10.000000       4.130000   16791.000000\n",
       "max     80995.000000   38970.000000   18287.000000"
      ]
     },
     "execution_count": 111,
     "metadata": {},
     "output_type": "execute_result"
    }
   ],
   "source": [
    "#to check the descriptive statistics of numerical variables\n",
    "df.describe()"
   ]
  },
  {
   "cell_type": "markdown",
   "id": "55be9a0d",
   "metadata": {},
   "source": [
    "###### From the above explorations,\n",
    "- We could infer that Quantity and Unitprice are having negative values. \n",
    "    This could possibly be the outliers and we can work on removing the outliers if needed. The fact that the outliers are present can also be known from the differences between Mean and Median values of those 2 numerical columns.\n",
    "- We can also see that CustomerID is in type float64.\n",
    "    That could be transformed to Int64 type."
   ]
  },
  {
   "cell_type": "markdown",
   "id": "886d67d3",
   "metadata": {},
   "source": [
    "#### 3.Dropping the missing values"
   ]
  },
  {
   "cell_type": "markdown",
   "id": "a387657a",
   "metadata": {},
   "source": [
    "The records with Customer IDs as NULL could be dropped by invoking dropna method, for the orders would not otherwise have been made."
   ]
  },
  {
   "cell_type": "code",
   "execution_count": 203,
   "id": "978ee3ac",
   "metadata": {},
   "outputs": [],
   "source": [
    "df.dropna(inplace=True)"
   ]
  },
  {
   "cell_type": "markdown",
   "id": "94453216",
   "metadata": {},
   "source": [
    "The above deleted records with NULL for Customer IDs are accountable for outliers too. As the negative values observed for Quantity becomes lesser(134 records) and Unitprice becomes zero.\n",
    "\n",
    "But can still observe the negative values for Quantity and value 0.0 for Unit Price, using the foloowing code snippet (df[\"Quantity\"]<0).value_counts() and (df1[\"UnitPrice\"]<=0).value_counts()\n"
   ]
  },
  {
   "cell_type": "markdown",
   "id": "423b83b3",
   "metadata": {},
   "source": [
    "#### 4. Detecting/Removing the outliers and Filling the missing values(Imputation)"
   ]
  },
  {
   "cell_type": "code",
   "execution_count": 204,
   "id": "da95b97e",
   "metadata": {},
   "outputs": [
    {
     "name": "stdout",
     "output_type": "stream",
     "text": [
      "<class 'pandas.core.frame.DataFrame'>\n",
      "Int64Index: 397924 entries, 0 to 541908\n",
      "Data columns (total 8 columns):\n",
      " #   Column       Non-Null Count   Dtype         \n",
      "---  ------       --------------   -----         \n",
      " 0   InvoiceNo    397924 non-null  object        \n",
      " 1   StockCode    397924 non-null  object        \n",
      " 2   Description  397924 non-null  object        \n",
      " 3   Quantity     397924 non-null  int64         \n",
      " 4   InvoiceDate  397924 non-null  datetime64[ns]\n",
      " 5   UnitPrice    397924 non-null  float64       \n",
      " 6   CustomerID   397924 non-null  float64       \n",
      " 7   Country      397924 non-null  object        \n",
      "dtypes: datetime64[ns](1), float64(2), int64(1), object(4)\n",
      "memory usage: 27.3+ MB\n"
     ]
    }
   ],
   "source": [
    "#considering the records of quantity>0 in a newly created dataframe by executing the following operation\n",
    "#since Quantity can never be negative and it only shows the Quantity data is inconsistent at this point\n",
    "df1=df[~df[\"Quantity\"]<0]\n",
    "df1.info()"
   ]
  },
  {
   "cell_type": "code",
   "execution_count": 207,
   "id": "8178993c",
   "metadata": {},
   "outputs": [
    {
     "data": {
      "text/plain": [
       "<AxesSubplot:>"
      ]
     },
     "execution_count": 207,
     "metadata": {},
     "output_type": "execute_result"
    },
    {
     "data": {
      "image/png": "[encoded data removed]",
      "text/plain": [
       "<Figure size 432x288 with 1 Axes>"
      ]
     },
     "metadata": {
      "needs_background": "light"
     },
     "output_type": "display_data"
    }
   ],
   "source": [
    "#Boxplots helps in easily visualizing the outliers in the data\n",
    "df1.boxplot() "
   ]
  },
  {
   "cell_type": "markdown",
   "id": "4fd949f5",
   "metadata": {},
   "source": [
    "We can see that the column values of Quantity has two outliers which makes the data to be highly spread. This could further be analysed and removed if needed."
   ]
  },
  {
   "cell_type": "code",
   "execution_count": 185,
   "id": "8e3faf76",
   "metadata": {},
   "outputs": [
    {
     "name": "stderr",
     "output_type": "stream",
     "text": [
      "C:\\Users\\Radhika\\AppData\\Local\\Temp\\ipykernel_23468\\359384531.py:3: SettingWithCopyWarning: \n",
      "A value is trying to be set on a copy of a slice from a DataFrame.\n",
      "Try using .loc[row_indexer,col_indexer] = value instead\n",
      "\n",
      "See the caveats in the documentation: https://pandas.pydata.org/pandas-docs/stable/user_guide/indexing.html#returning-a-view-versus-a-copy\n",
      "  df1[\"UnitPrice\"]=df1.apply(lambda row: price_map.get(row[\"Description\"],row[\"UnitPrice\"]), axis=1)\n"
     ]
    },
    {
     "data": {
      "text/plain": [
       "False    397924\n",
       "Name: UnitPrice, dtype: int64"
      ]
     },
     "execution_count": 185,
     "metadata": {},
     "output_type": "execute_result"
    }
   ],
   "source": [
    "#Filter the list price of the products and it's unit prices where the unitprices of the instances of zero \n",
    "non_zero_prices=df[df[\"UnitPrice\"]!=0].drop_duplicates(\"Description\")\n",
    "#get the series with products as index and unitprice as the value \n",
    "price_map=non_zero_prices.set_index(\"Description\")[\"UnitPrice\"]\n",
    "#using lambda apply, map the unitprices from the series to the products in our target dataframe \n",
    "df1[\"UnitPrice\"]=df1.apply(lambda row: price_map.get(row[\"Description\"],row[\"UnitPrice\"]), axis=1)\n",
    "(df1[\"UnitPrice\"]==0).value_counts()"
   ]
  },
  {
   "cell_type": "code",
   "execution_count": 187,
   "id": "19f27965",
   "metadata": {},
   "outputs": [
    {
     "name": "stderr",
     "output_type": "stream",
     "text": [
      "C:\\Users\\Radhika\\AppData\\Local\\Temp\\ipykernel_23468\\621149363.py:3: SettingWithCopyWarning: \n",
      "A value is trying to be set on a copy of a slice from a DataFrame.\n",
      "Try using .loc[row_indexer,col_indexer] = value instead\n",
      "\n",
      "See the caveats in the documentation: https://pandas.pydata.org/pandas-docs/stable/user_guide/indexing.html#returning-a-view-versus-a-copy\n",
      "  df1['exited'] = np.random.choice([0,1],size=len(df1),p=[0.3,0.7])\n"
     ]
    }
   ],
   "source": [
    "#manually inserting the churned data for the Customers \n",
    "#1 for churned=yes with 70% values and 0 for churned=no with 30% values\n",
    "df1['exited'] = np.random.choice([0,1],size=len(df1),p=[0.3,0.7])"
   ]
  },
  {
   "cell_type": "code",
   "execution_count": 188,
   "id": "32e91c43",
   "metadata": {},
   "outputs": [
    {
     "data": {
      "text/plain": [
       "Text(0.5, 1.0, 'Count of customers by churned(1)/not churned(0)')"
      ]
     },
     "execution_count": 188,
     "metadata": {},
     "output_type": "execute_result"
    },
    {
     "data": {
      "image/png": "[encoded data removed]",
      "text/plain": [
       "<Figure size 576x432 with 1 Axes>"
      ]
     },
     "metadata": {
      "needs_background": "light"
     },
     "output_type": "display_data"
    }
   ],
   "source": [
    "df1['exited'].value_counts().plot(kind='barh',figsize=(8,6))\n",
    "plt.xlabel('Count')\n",
    "plt.ylabel('Exited category')\n",
    "plt.title('Count of customers by churned(1)/not churned(0)')"
   ]
  },
  {
   "cell_type": "markdown",
   "id": "55e21c5d",
   "metadata": {},
   "source": [
    "#### 3. Data Cleaning"
   ]
  },
  {
   "cell_type": "code",
   "execution_count": 189,
   "id": "8be400bd",
   "metadata": {},
   "outputs": [
    {
     "data": {
      "text/html": [
       "<div>\n",
       "<style scoped>\n",
       "    .dataframe tbody tr th:only-of-type {\n",
       "        vertical-align: middle;\n",
       "    }\n",
       "\n",
       "    .dataframe tbody tr th {\n",
       "        vertical-align: top;\n",
       "    }\n",
       "\n",
       "    .dataframe thead th {\n",
       "        text-align: right;\n",
       "    }\n",
       "</style>\n",
       "<table border=\"1\" class=\"dataframe\">\n",
       "  <thead>\n",
       "    <tr style=\"text-align: right;\">\n",
       "      <th></th>\n",
       "      <th>InvoiceNo</th>\n",
       "      <th>StockCode</th>\n",
       "      <th>Description</th>\n",
       "      <th>Quantity</th>\n",
       "      <th>InvoiceDate</th>\n",
       "      <th>UnitPrice</th>\n",
       "      <th>CustomerID</th>\n",
       "      <th>Country</th>\n",
       "      <th>exited</th>\n",
       "    </tr>\n",
       "  </thead>\n",
       "  <tbody>\n",
       "    <tr>\n",
       "      <th>0</th>\n",
       "      <td>536365</td>\n",
       "      <td>85123A</td>\n",
       "      <td>WHITE HANGING HEART T-LIGHT HOLDER</td>\n",
       "      <td>6</td>\n",
       "      <td>2010-12-01 08:26:00</td>\n",
       "      <td>2.55</td>\n",
       "      <td>17850.0</td>\n",
       "      <td>United Kingdom</td>\n",
       "      <td>1</td>\n",
       "    </tr>\n",
       "    <tr>\n",
       "      <th>1</th>\n",
       "      <td>536365</td>\n",
       "      <td>71053</td>\n",
       "      <td>WHITE METAL LANTERN</td>\n",
       "      <td>6</td>\n",
       "      <td>2010-12-01 08:26:00</td>\n",
       "      <td>3.39</td>\n",
       "      <td>17850.0</td>\n",
       "      <td>United Kingdom</td>\n",
       "      <td>0</td>\n",
       "    </tr>\n",
       "    <tr>\n",
       "      <th>2</th>\n",
       "      <td>536365</td>\n",
       "      <td>84406B</td>\n",
       "      <td>CREAM CUPID HEARTS COAT HANGER</td>\n",
       "      <td>8</td>\n",
       "      <td>2010-12-01 08:26:00</td>\n",
       "      <td>2.75</td>\n",
       "      <td>17850.0</td>\n",
       "      <td>United Kingdom</td>\n",
       "      <td>0</td>\n",
       "    </tr>\n",
       "    <tr>\n",
       "      <th>3</th>\n",
       "      <td>536365</td>\n",
       "      <td>84029G</td>\n",
       "      <td>KNITTED UNION FLAG HOT WATER BOTTLE</td>\n",
       "      <td>6</td>\n",
       "      <td>2010-12-01 08:26:00</td>\n",
       "      <td>3.39</td>\n",
       "      <td>17850.0</td>\n",
       "      <td>United Kingdom</td>\n",
       "      <td>1</td>\n",
       "    </tr>\n",
       "    <tr>\n",
       "      <th>4</th>\n",
       "      <td>536365</td>\n",
       "      <td>84029E</td>\n",
       "      <td>RED WOOLLY HOTTIE WHITE HEART.</td>\n",
       "      <td>6</td>\n",
       "      <td>2010-12-01 08:26:00</td>\n",
       "      <td>3.39</td>\n",
       "      <td>17850.0</td>\n",
       "      <td>United Kingdom</td>\n",
       "      <td>0</td>\n",
       "    </tr>\n",
       "  </tbody>\n",
       "</table>\n",
       "</div>"
      ],
      "text/plain": [
       "  InvoiceNo StockCode                          Description  Quantity  \\\n",
       "0    536365    85123A   WHITE HANGING HEART T-LIGHT HOLDER         6   \n",
       "1    536365     71053                  WHITE METAL LANTERN         6   \n",
       "2    536365    84406B       CREAM CUPID HEARTS COAT HANGER         8   \n",
       "3    536365    84029G  KNITTED UNION FLAG HOT WATER BOTTLE         6   \n",
       "4    536365    84029E       RED WOOLLY HOTTIE WHITE HEART.         6   \n",
       "\n",
       "          InvoiceDate  UnitPrice  CustomerID         Country  exited  \n",
       "0 2010-12-01 08:26:00       2.55     17850.0  United Kingdom       1  \n",
       "1 2010-12-01 08:26:00       3.39     17850.0  United Kingdom       0  \n",
       "2 2010-12-01 08:26:00       2.75     17850.0  United Kingdom       0  \n",
       "3 2010-12-01 08:26:00       3.39     17850.0  United Kingdom       1  \n",
       "4 2010-12-01 08:26:00       3.39     17850.0  United Kingdom       0  "
      ]
     },
     "execution_count": 189,
     "metadata": {},
     "output_type": "execute_result"
    }
   ],
   "source": [
    "#creatina a copy of the base data before getting into cleaning phase\n",
    "data=df1.copy()\n",
    "data.head()"
   ]
  },
  {
   "cell_type": "code",
   "execution_count": 190,
   "id": "86546391",
   "metadata": {},
   "outputs": [
    {
     "data": {
      "text/html": [
       "<div>\n",
       "<style scoped>\n",
       "    .dataframe tbody tr th:only-of-type {\n",
       "        vertical-align: middle;\n",
       "    }\n",
       "\n",
       "    .dataframe tbody tr th {\n",
       "        vertical-align: top;\n",
       "    }\n",
       "\n",
       "    .dataframe thead th {\n",
       "        text-align: right;\n",
       "    }\n",
       "</style>\n",
       "<table border=\"1\" class=\"dataframe\">\n",
       "  <thead>\n",
       "    <tr style=\"text-align: right;\">\n",
       "      <th></th>\n",
       "      <th>InvoiceNo</th>\n",
       "      <th>StockCode</th>\n",
       "      <th>Description</th>\n",
       "      <th>Quantity</th>\n",
       "      <th>InvoiceDate</th>\n",
       "      <th>UnitPrice</th>\n",
       "      <th>CustomerID</th>\n",
       "      <th>Country</th>\n",
       "      <th>exited</th>\n",
       "    </tr>\n",
       "  </thead>\n",
       "  <tbody>\n",
       "    <tr>\n",
       "      <th>0</th>\n",
       "      <td>536365</td>\n",
       "      <td>85123A</td>\n",
       "      <td>WHITE HANGING HEART T-LIGHT HOLDER</td>\n",
       "      <td>6</td>\n",
       "      <td>2010-12-01 08:26:00</td>\n",
       "      <td>2.55</td>\n",
       "      <td>17850</td>\n",
       "      <td>United Kingdom</td>\n",
       "      <td>1</td>\n",
       "    </tr>\n",
       "    <tr>\n",
       "      <th>1</th>\n",
       "      <td>536365</td>\n",
       "      <td>71053</td>\n",
       "      <td>WHITE METAL LANTERN</td>\n",
       "      <td>6</td>\n",
       "      <td>2010-12-01 08:26:00</td>\n",
       "      <td>3.39</td>\n",
       "      <td>17850</td>\n",
       "      <td>United Kingdom</td>\n",
       "      <td>0</td>\n",
       "    </tr>\n",
       "    <tr>\n",
       "      <th>2</th>\n",
       "      <td>536365</td>\n",
       "      <td>84406B</td>\n",
       "      <td>CREAM CUPID HEARTS COAT HANGER</td>\n",
       "      <td>8</td>\n",
       "      <td>2010-12-01 08:26:00</td>\n",
       "      <td>2.75</td>\n",
       "      <td>17850</td>\n",
       "      <td>United Kingdom</td>\n",
       "      <td>0</td>\n",
       "    </tr>\n",
       "    <tr>\n",
       "      <th>3</th>\n",
       "      <td>536365</td>\n",
       "      <td>84029G</td>\n",
       "      <td>KNITTED UNION FLAG HOT WATER BOTTLE</td>\n",
       "      <td>6</td>\n",
       "      <td>2010-12-01 08:26:00</td>\n",
       "      <td>3.39</td>\n",
       "      <td>17850</td>\n",
       "      <td>United Kingdom</td>\n",
       "      <td>1</td>\n",
       "    </tr>\n",
       "    <tr>\n",
       "      <th>4</th>\n",
       "      <td>536365</td>\n",
       "      <td>84029E</td>\n",
       "      <td>RED WOOLLY HOTTIE WHITE HEART.</td>\n",
       "      <td>6</td>\n",
       "      <td>2010-12-01 08:26:00</td>\n",
       "      <td>3.39</td>\n",
       "      <td>17850</td>\n",
       "      <td>United Kingdom</td>\n",
       "      <td>0</td>\n",
       "    </tr>\n",
       "  </tbody>\n",
       "</table>\n",
       "</div>"
      ],
      "text/plain": [
       "  InvoiceNo StockCode                          Description  Quantity  \\\n",
       "0    536365    85123A   WHITE HANGING HEART T-LIGHT HOLDER         6   \n",
       "1    536365     71053                  WHITE METAL LANTERN         6   \n",
       "2    536365    84406B       CREAM CUPID HEARTS COAT HANGER         8   \n",
       "3    536365    84029G  KNITTED UNION FLAG HOT WATER BOTTLE         6   \n",
       "4    536365    84029E       RED WOOLLY HOTTIE WHITE HEART.         6   \n",
       "\n",
       "          InvoiceDate  UnitPrice  CustomerID         Country  exited  \n",
       "0 2010-12-01 08:26:00       2.55       17850  United Kingdom       1  \n",
       "1 2010-12-01 08:26:00       3.39       17850  United Kingdom       0  \n",
       "2 2010-12-01 08:26:00       2.75       17850  United Kingdom       0  \n",
       "3 2010-12-01 08:26:00       3.39       17850  United Kingdom       1  \n",
       "4 2010-12-01 08:26:00       3.39       17850  United Kingdom       0  "
      ]
     },
     "execution_count": 190,
     "metadata": {},
     "output_type": "execute_result"
    }
   ],
   "source": [
    "#Customer ID should be an integer value and below step is performing the same using astype method\n",
    "data.CustomerID=data.CustomerID.astype(int)\n",
    "data.head()"
   ]
  },
  {
   "cell_type": "markdown",
   "id": "3816bb87",
   "metadata": {},
   "source": [
    "#### 4. Data Binning\n",
    "To bin the sales transactions by seasons,and to analyse which seasons have performed good amount of sales."
   ]
  },
  {
   "cell_type": "code",
   "execution_count": 191,
   "id": "e1dc6adb",
   "metadata": {},
   "outputs": [
    {
     "data": {
      "text/html": [
       "<div>\n",
       "<style scoped>\n",
       "    .dataframe tbody tr th:only-of-type {\n",
       "        vertical-align: middle;\n",
       "    }\n",
       "\n",
       "    .dataframe tbody tr th {\n",
       "        vertical-align: top;\n",
       "    }\n",
       "\n",
       "    .dataframe thead th {\n",
       "        text-align: right;\n",
       "    }\n",
       "</style>\n",
       "<table border=\"1\" class=\"dataframe\">\n",
       "  <thead>\n",
       "    <tr style=\"text-align: right;\">\n",
       "      <th></th>\n",
       "      <th>InvoiceNo</th>\n",
       "      <th>StockCode</th>\n",
       "      <th>Description</th>\n",
       "      <th>Quantity</th>\n",
       "      <th>InvoiceDate</th>\n",
       "      <th>UnitPrice</th>\n",
       "      <th>CustomerID</th>\n",
       "      <th>Country</th>\n",
       "      <th>exited</th>\n",
       "    </tr>\n",
       "  </thead>\n",
       "  <tbody>\n",
       "  </tbody>\n",
       "</table>\n",
       "</div>"
      ],
      "text/plain": [
       "Empty DataFrame\n",
       "Columns: [InvoiceNo, StockCode, Description, Quantity, InvoiceDate, UnitPrice, CustomerID, Country, exited]\n",
       "Index: []"
      ]
     },
     "execution_count": 191,
     "metadata": {},
     "output_type": "execute_result"
    }
   ],
   "source": [
    "#filtering the sales for year=2011, considering the sales of one year for analysis purposes\n",
    "sales_2011=data[data[\"InvoiceDate\"].dt.year==2011]\n",
    "#ensuring the sales are present for 2011 only, in a newly created dataframe\n",
    "sales_2011[~sales_2011[\"InvoiceDate\"].dt.year==2011]"
   ]
  },
  {
   "cell_type": "code",
   "execution_count": 193,
   "id": "05ba2d98",
   "metadata": {},
   "outputs": [
    {
     "name": "stderr",
     "output_type": "stream",
     "text": [
      "C:\\Users\\Radhika\\AppData\\Local\\Temp\\ipykernel_23468\\1474331184.py:2: SettingWithCopyWarning: \n",
      "A value is trying to be set on a copy of a slice from a DataFrame.\n",
      "Try using .loc[row_indexer,col_indexer] = value instead\n",
      "\n",
      "See the caveats in the documentation: https://pandas.pydata.org/pandas-docs/stable/user_guide/indexing.html#returning-a-view-versus-a-copy\n",
      "  sales_2011[\"InvoiceYear\"]=sales_2011[\"InvoiceDate\"].dt.year\n",
      "C:\\Users\\Radhika\\AppData\\Local\\Temp\\ipykernel_23468\\1474331184.py:3: SettingWithCopyWarning: \n",
      "A value is trying to be set on a copy of a slice from a DataFrame.\n",
      "Try using .loc[row_indexer,col_indexer] = value instead\n",
      "\n",
      "See the caveats in the documentation: https://pandas.pydata.org/pandas-docs/stable/user_guide/indexing.html#returning-a-view-versus-a-copy\n",
      "  sales_2011[\"InvoiceMonth\"]=sales_2011[\"InvoiceDate\"].dt.month\n"
     ]
    }
   ],
   "source": [
    "#Extract Month IDs and Year IDs from Invoice Date column\n",
    "sales_2011[\"InvoiceYear\"]=sales_2011[\"InvoiceDate\"].dt.year\n",
    "sales_2011[\"InvoiceMonth\"]=sales_2011[\"InvoiceDate\"].dt.month"
   ]
  },
  {
   "cell_type": "code",
   "execution_count": 194,
   "id": "e8eb1605",
   "metadata": {},
   "outputs": [
    {
     "data": {
      "text/plain": [
       "['1-3', '4-6', '7-9', '10-12']"
      ]
     },
     "execution_count": 194,
     "metadata": {},
     "output_type": "execute_result"
    }
   ],
   "source": [
    "labels=[\"{0}-{1}\".format(i,i+2) for i in range(1,13,3)]\n",
    "labels"
   ]
  },
  {
   "cell_type": "code",
   "execution_count": 195,
   "id": "052f29e7",
   "metadata": {},
   "outputs": [
    {
     "name": "stderr",
     "output_type": "stream",
     "text": [
      "C:\\Users\\Radhika\\AppData\\Local\\Temp\\ipykernel_23468\\2331950360.py:1: SettingWithCopyWarning: \n",
      "A value is trying to be set on a copy of a slice from a DataFrame.\n",
      "Try using .loc[row_indexer,col_indexer] = value instead\n",
      "\n",
      "See the caveats in the documentation: https://pandas.pydata.org/pandas-docs/stable/user_guide/indexing.html#returning-a-view-versus-a-copy\n",
      "  sales_2011[\"Month_group\"]=pd.cut(sales_2011[\"InvoiceMonth\"],range(1,14,3),right=False,labels=labels)\n"
     ]
    },
    {
     "data": {
      "text/plain": [
       "<AxesSubplot:>"
      ]
     },
     "execution_count": 195,
     "metadata": {},
     "output_type": "execute_result"
    },
    {
     "data": {
      "image/png": "[encoded data removed]",
      "text/plain": [
       "<Figure size 432x288 with 1 Axes>"
      ]
     },
     "metadata": {
      "needs_background": "light"
     },
     "output_type": "display_data"
    }
   ],
   "source": [
    "sales_2011[\"Month_group\"]=pd.cut(sales_2011[\"InvoiceMonth\"],range(1,14,3),right=False,labels=labels)\n",
    "sales_2011[\"Month_group\"].value_counts().plot(kind=\"bar\")"
   ]
  },
  {
   "cell_type": "markdown",
   "id": "7f2bc542",
   "metadata": {},
   "source": [
    "Can infer that, more than any seasons/month groups, months 10-12 contributed more to the sales.\n",
    "We can now perform the exercise of which products have been sold the least in which month, decide and inform the business about the underperformed products. For which more discounts could be given."
   ]
  },
  {
   "cell_type": "code",
   "execution_count": 196,
   "id": "8cb97f29",
   "metadata": {},
   "outputs": [
    {
     "name": "stderr",
     "output_type": "stream",
     "text": [
      "C:\\Users\\Radhika\\AppData\\Local\\Temp\\ipykernel_23468\\3976270736.py:1: SettingWithCopyWarning: \n",
      "A value is trying to be set on a copy of a slice from a DataFrame.\n",
      "Try using .loc[row_indexer,col_indexer] = value instead\n",
      "\n",
      "See the caveats in the documentation: https://pandas.pydata.org/pandas-docs/stable/user_guide/indexing.html#returning-a-view-versus-a-copy\n",
      "  sales_2011[\"sales_amount\"]=sales_2011[\"Quantity\"]*sales_2011[\"UnitPrice\"]\n"
     ]
    }
   ],
   "source": [
    "sales_2011[\"sales_amount\"]=sales_2011[\"Quantity\"]*sales_2011[\"UnitPrice\"]"
   ]
  },
  {
   "cell_type": "code",
   "execution_count": 197,
   "id": "00ca81aa",
   "metadata": {},
   "outputs": [
    {
     "data": {
      "text/html": [
       "<div>\n",
       "<style scoped>\n",
       "    .dataframe tbody tr th:only-of-type {\n",
       "        vertical-align: middle;\n",
       "    }\n",
       "\n",
       "    .dataframe tbody tr th {\n",
       "        vertical-align: top;\n",
       "    }\n",
       "\n",
       "    .dataframe thead th {\n",
       "        text-align: right;\n",
       "    }\n",
       "</style>\n",
       "<table border=\"1\" class=\"dataframe\">\n",
       "  <thead>\n",
       "    <tr style=\"text-align: right;\">\n",
       "      <th></th>\n",
       "      <th>InvoiceYear</th>\n",
       "      <th>InvoiceMonth</th>\n",
       "      <th>Description</th>\n",
       "      <th>sales_amount</th>\n",
       "      <th>rank</th>\n",
       "    </tr>\n",
       "  </thead>\n",
       "  <tbody>\n",
       "    <tr>\n",
       "      <th>2779</th>\n",
       "      <td>2011</td>\n",
       "      <td>2</td>\n",
       "      <td>FELT FARM ANIMAL HEN</td>\n",
       "      <td>0.420</td>\n",
       "      <td>2.0</td>\n",
       "    </tr>\n",
       "    <tr>\n",
       "      <th>3192</th>\n",
       "      <td>2011</td>\n",
       "      <td>2</td>\n",
       "      <td>MAGIC DRAWING SLATE BAKE A CAKE</td>\n",
       "      <td>0.420</td>\n",
       "      <td>2.0</td>\n",
       "    </tr>\n",
       "    <tr>\n",
       "      <th>3253</th>\n",
       "      <td>2011</td>\n",
       "      <td>2</td>\n",
       "      <td>MINI JIGSAW PURDEY</td>\n",
       "      <td>0.420</td>\n",
       "      <td>2.0</td>\n",
       "    </tr>\n",
       "    <tr>\n",
       "      <th>4456</th>\n",
       "      <td>2011</td>\n",
       "      <td>3</td>\n",
       "      <td>BLACK FEATHER CHRISTMAS DECORATION</td>\n",
       "      <td>0.190</td>\n",
       "      <td>1.0</td>\n",
       "    </tr>\n",
       "    <tr>\n",
       "      <th>7799</th>\n",
       "      <td>2011</td>\n",
       "      <td>4</td>\n",
       "      <td>PADS TO MATCH ALL CUSHIONS</td>\n",
       "      <td>0.001</td>\n",
       "      <td>1.0</td>\n",
       "    </tr>\n",
       "    <tr>\n",
       "      <th>9902</th>\n",
       "      <td>2011</td>\n",
       "      <td>5</td>\n",
       "      <td>MINI JIGSAW GO TO THE FAIR</td>\n",
       "      <td>0.420</td>\n",
       "      <td>1.5</td>\n",
       "    </tr>\n",
       "    <tr>\n",
       "      <th>9904</th>\n",
       "      <td>2011</td>\n",
       "      <td>5</td>\n",
       "      <td>MINI JIGSAW PURDEY</td>\n",
       "      <td>0.420</td>\n",
       "      <td>1.5</td>\n",
       "    </tr>\n",
       "    <tr>\n",
       "      <th>11087</th>\n",
       "      <td>2011</td>\n",
       "      <td>6</td>\n",
       "      <td>ASSORTED COLOUR SUCTION CUP HOOK</td>\n",
       "      <td>0.190</td>\n",
       "      <td>1.0</td>\n",
       "    </tr>\n",
       "    <tr>\n",
       "      <th>11846</th>\n",
       "      <td>2011</td>\n",
       "      <td>6</td>\n",
       "      <td>GOLD FABRIC MIRROR</td>\n",
       "      <td>0.390</td>\n",
       "      <td>2.0</td>\n",
       "    </tr>\n",
       "    <tr>\n",
       "      <th>12904</th>\n",
       "      <td>2011</td>\n",
       "      <td>6</td>\n",
       "      <td>SILICON STAR BULB  BLUE</td>\n",
       "      <td>0.420</td>\n",
       "      <td>3.0</td>\n",
       "    </tr>\n",
       "    <tr>\n",
       "      <th>14701</th>\n",
       "      <td>2011</td>\n",
       "      <td>7</td>\n",
       "      <td>PADS TO MATCH ALL CUSHIONS</td>\n",
       "      <td>0.001</td>\n",
       "      <td>1.0</td>\n",
       "    </tr>\n",
       "    <tr>\n",
       "      <th>14889</th>\n",
       "      <td>2011</td>\n",
       "      <td>7</td>\n",
       "      <td>PORCELAIN BUDAH INCENSE HOLDER</td>\n",
       "      <td>0.070</td>\n",
       "      <td>2.0</td>\n",
       "    </tr>\n",
       "    <tr>\n",
       "      <th>16927</th>\n",
       "      <td>2011</td>\n",
       "      <td>8</td>\n",
       "      <td>MINI JIGSAW GO TO THE FAIR</td>\n",
       "      <td>0.420</td>\n",
       "      <td>1.5</td>\n",
       "    </tr>\n",
       "    <tr>\n",
       "      <th>17654</th>\n",
       "      <td>2011</td>\n",
       "      <td>8</td>\n",
       "      <td>SILICON STAR BULB  BLUE</td>\n",
       "      <td>0.420</td>\n",
       "      <td>1.5</td>\n",
       "    </tr>\n",
       "    <tr>\n",
       "      <th>16389</th>\n",
       "      <td>2011</td>\n",
       "      <td>8</td>\n",
       "      <td>FAN BLACK FRAME</td>\n",
       "      <td>0.580</td>\n",
       "      <td>3.0</td>\n",
       "    </tr>\n",
       "    <tr>\n",
       "      <th>19592</th>\n",
       "      <td>2011</td>\n",
       "      <td>9</td>\n",
       "      <td>PADS TO MATCH ALL CUSHIONS</td>\n",
       "      <td>0.002</td>\n",
       "      <td>1.0</td>\n",
       "    </tr>\n",
       "    <tr>\n",
       "      <th>19078</th>\n",
       "      <td>2011</td>\n",
       "      <td>9</td>\n",
       "      <td>GREETING CARD, STICKY GORDON</td>\n",
       "      <td>0.190</td>\n",
       "      <td>2.0</td>\n",
       "    </tr>\n",
       "    <tr>\n",
       "      <th>19035</th>\n",
       "      <td>2011</td>\n",
       "      <td>9</td>\n",
       "      <td>GLOW IN DARK DOLPHINS</td>\n",
       "      <td>0.210</td>\n",
       "      <td>3.0</td>\n",
       "    </tr>\n",
       "    <tr>\n",
       "      <th>22528</th>\n",
       "      <td>2011</td>\n",
       "      <td>10</td>\n",
       "      <td>RETRO PILL BOX , REVOLUTIONARY</td>\n",
       "      <td>0.180</td>\n",
       "      <td>1.0</td>\n",
       "    </tr>\n",
       "    <tr>\n",
       "      <th>21718</th>\n",
       "      <td>2011</td>\n",
       "      <td>10</td>\n",
       "      <td>HARDMAN MUG 3 ASSORTED</td>\n",
       "      <td>0.390</td>\n",
       "      <td>2.0</td>\n",
       "    </tr>\n",
       "    <tr>\n",
       "      <th>24404</th>\n",
       "      <td>2011</td>\n",
       "      <td>11</td>\n",
       "      <td>HAPPY BIRTHDAY CARD STRIPEY TEDDY</td>\n",
       "      <td>0.190</td>\n",
       "      <td>1.0</td>\n",
       "    </tr>\n",
       "    <tr>\n",
       "      <th>23442</th>\n",
       "      <td>2011</td>\n",
       "      <td>11</td>\n",
       "      <td>ACRYLIC JEWEL ICICLE, BLUE</td>\n",
       "      <td>0.380</td>\n",
       "      <td>2.5</td>\n",
       "    </tr>\n",
       "    <tr>\n",
       "      <th>25249</th>\n",
       "      <td>2011</td>\n",
       "      <td>11</td>\n",
       "      <td>RETRO PILL BOX KEY CHAIN,THE KING</td>\n",
       "      <td>0.380</td>\n",
       "      <td>2.5</td>\n",
       "    </tr>\n",
       "    <tr>\n",
       "      <th>27595</th>\n",
       "      <td>2011</td>\n",
       "      <td>12</td>\n",
       "      <td>RETRO PILL BOX KEY CHAIN,THE KING</td>\n",
       "      <td>0.190</td>\n",
       "      <td>1.0</td>\n",
       "    </tr>\n",
       "    <tr>\n",
       "      <th>26187</th>\n",
       "      <td>2011</td>\n",
       "      <td>12</td>\n",
       "      <td>ASSORTED COLOUR SUCTION CUP HOOK</td>\n",
       "      <td>0.380</td>\n",
       "      <td>2.0</td>\n",
       "    </tr>\n",
       "  </tbody>\n",
       "</table>\n",
       "</div>"
      ],
      "text/plain": [
       "       InvoiceYear  InvoiceMonth                         Description  \\\n",
       "2779          2011             2                FELT FARM ANIMAL HEN   \n",
       "3192          2011             2    MAGIC DRAWING SLATE BAKE A CAKE    \n",
       "3253          2011             2                  MINI JIGSAW PURDEY   \n",
       "4456          2011             3  BLACK FEATHER CHRISTMAS DECORATION   \n",
       "7799          2011             4          PADS TO MATCH ALL CUSHIONS   \n",
       "9902          2011             5          MINI JIGSAW GO TO THE FAIR   \n",
       "9904          2011             5                  MINI JIGSAW PURDEY   \n",
       "11087         2011             6    ASSORTED COLOUR SUCTION CUP HOOK   \n",
       "11846         2011             6                  GOLD FABRIC MIRROR   \n",
       "12904         2011             6             SILICON STAR BULB  BLUE   \n",
       "14701         2011             7          PADS TO MATCH ALL CUSHIONS   \n",
       "14889         2011             7      PORCELAIN BUDAH INCENSE HOLDER   \n",
       "16927         2011             8          MINI JIGSAW GO TO THE FAIR   \n",
       "17654         2011             8             SILICON STAR BULB  BLUE   \n",
       "16389         2011             8                    FAN BLACK FRAME    \n",
       "19592         2011             9          PADS TO MATCH ALL CUSHIONS   \n",
       "19078         2011             9        GREETING CARD, STICKY GORDON   \n",
       "19035         2011             9               GLOW IN DARK DOLPHINS   \n",
       "22528         2011            10      RETRO PILL BOX , REVOLUTIONARY   \n",
       "21718         2011            10              HARDMAN MUG 3 ASSORTED   \n",
       "24404         2011            11   HAPPY BIRTHDAY CARD STRIPEY TEDDY   \n",
       "23442         2011            11          ACRYLIC JEWEL ICICLE, BLUE   \n",
       "25249         2011            11   RETRO PILL BOX KEY CHAIN,THE KING   \n",
       "27595         2011            12   RETRO PILL BOX KEY CHAIN,THE KING   \n",
       "26187         2011            12    ASSORTED COLOUR SUCTION CUP HOOK   \n",
       "\n",
       "       sales_amount  rank  \n",
       "2779          0.420   2.0  \n",
       "3192          0.420   2.0  \n",
       "3253          0.420   2.0  \n",
       "4456          0.190   1.0  \n",
       "7799          0.001   1.0  \n",
       "9902          0.420   1.5  \n",
       "9904          0.420   1.5  \n",
       "11087         0.190   1.0  \n",
       "11846         0.390   2.0  \n",
       "12904         0.420   3.0  \n",
       "14701         0.001   1.0  \n",
       "14889         0.070   2.0  \n",
       "16927         0.420   1.5  \n",
       "17654         0.420   1.5  \n",
       "16389         0.580   3.0  \n",
       "19592         0.002   1.0  \n",
       "19078         0.190   2.0  \n",
       "19035         0.210   3.0  \n",
       "22528         0.180   1.0  \n",
       "21718         0.390   2.0  \n",
       "24404         0.190   1.0  \n",
       "23442         0.380   2.5  \n",
       "25249         0.380   2.5  \n",
       "27595         0.190   1.0  \n",
       "26187         0.380   2.0  "
      ]
     },
     "execution_count": 197,
     "metadata": {},
     "output_type": "execute_result"
    }
   ],
   "source": [
    "sales_by_year_month_product= sales_2011.groupby(['InvoiceYear', 'InvoiceMonth', 'Description'])['sales_amount'].sum().reset_index()\n",
    "sales_by_year_month_product['rank']=sales_by_year_month_product.groupby(['InvoiceYear', 'InvoiceMonth'])['sales_amount'].rank(ascending=True)\n",
    "\n",
    "# Filter bottom 3 products per month-year\n",
    "bottom_3 = sales_by_year_month_product[sales_by_year_month_product['rank'] <= 3].sort_values(['InvoiceYear', 'InvoiceMonth', 'rank'])\n",
    "bottom_3"
   ]
  },
  {
   "cell_type": "markdown",
   "id": "1c5b839d",
   "metadata": {},
   "source": [
    "We can see that products such as MINI JIGSAW, RETRO PILL BOX KEY, ASSORTED COLOUR SUCTION are the most common ones that have low sales and could be considered for giving discounts."
   ]
  },
  {
   "cell_type": "code",
   "execution_count": 199,
   "id": "2f96d454",
   "metadata": {},
   "outputs": [
    {
     "data": {
      "text/html": [
       "<div>\n",
       "<style scoped>\n",
       "    .dataframe tbody tr th:only-of-type {\n",
       "        vertical-align: middle;\n",
       "    }\n",
       "\n",
       "    .dataframe tbody tr th {\n",
       "        vertical-align: top;\n",
       "    }\n",
       "\n",
       "    .dataframe thead th {\n",
       "        text-align: right;\n",
       "    }\n",
       "</style>\n",
       "<table border=\"1\" class=\"dataframe\">\n",
       "  <thead>\n",
       "    <tr style=\"text-align: right;\">\n",
       "      <th></th>\n",
       "      <th>Quantity</th>\n",
       "      <th>UnitPrice</th>\n",
       "      <th>CustomerID</th>\n",
       "      <th>exited</th>\n",
       "      <th>InvoiceYear</th>\n",
       "      <th>InvoiceMonth</th>\n",
       "      <th>sales_amount</th>\n",
       "    </tr>\n",
       "  </thead>\n",
       "  <tbody>\n",
       "    <tr>\n",
       "      <th>count</th>\n",
       "      <td>371764.000000</td>\n",
       "      <td>371764.000000</td>\n",
       "      <td>371764.000000</td>\n",
       "      <td>371764.000000</td>\n",
       "      <td>371764.0</td>\n",
       "      <td>371764.000000</td>\n",
       "      <td>371764.000000</td>\n",
       "    </tr>\n",
       "    <tr>\n",
       "      <th>mean</th>\n",
       "      <td>13.098138</td>\n",
       "      <td>2.938928</td>\n",
       "      <td>15277.794830</td>\n",
       "      <td>0.700057</td>\n",
       "      <td>2011.0</td>\n",
       "      <td>7.303803</td>\n",
       "      <td>24.210206</td>\n",
       "    </tr>\n",
       "    <tr>\n",
       "      <th>std</th>\n",
       "      <td>186.261721</td>\n",
       "      <td>5.022264</td>\n",
       "      <td>1710.030407</td>\n",
       "      <td>0.458233</td>\n",
       "      <td>0.0</td>\n",
       "      <td>3.323274</td>\n",
       "      <td>321.813590</td>\n",
       "    </tr>\n",
       "    <tr>\n",
       "      <th>min</th>\n",
       "      <td>1.000000</td>\n",
       "      <td>0.001000</td>\n",
       "      <td>12346.000000</td>\n",
       "      <td>0.000000</td>\n",
       "      <td>2011.0</td>\n",
       "      <td>1.000000</td>\n",
       "      <td>0.001000</td>\n",
       "    </tr>\n",
       "    <tr>\n",
       "      <th>25%</th>\n",
       "      <td>2.000000</td>\n",
       "      <td>1.250000</td>\n",
       "      <td>13941.000000</td>\n",
       "      <td>0.000000</td>\n",
       "      <td>2011.0</td>\n",
       "      <td>5.000000</td>\n",
       "      <td>4.950000</td>\n",
       "    </tr>\n",
       "    <tr>\n",
       "      <th>50%</th>\n",
       "      <td>6.000000</td>\n",
       "      <td>1.950000</td>\n",
       "      <td>15125.000000</td>\n",
       "      <td>1.000000</td>\n",
       "      <td>2011.0</td>\n",
       "      <td>8.000000</td>\n",
       "      <td>12.480000</td>\n",
       "    </tr>\n",
       "    <tr>\n",
       "      <th>75%</th>\n",
       "      <td>12.000000</td>\n",
       "      <td>3.750000</td>\n",
       "      <td>16775.000000</td>\n",
       "      <td>1.000000</td>\n",
       "      <td>2011.0</td>\n",
       "      <td>10.000000</td>\n",
       "      <td>19.800000</td>\n",
       "    </tr>\n",
       "    <tr>\n",
       "      <th>max</th>\n",
       "      <td>80995.000000</td>\n",
       "      <td>649.500000</td>\n",
       "      <td>18287.000000</td>\n",
       "      <td>1.000000</td>\n",
       "      <td>2011.0</td>\n",
       "      <td>12.000000</td>\n",
       "      <td>168469.600000</td>\n",
       "    </tr>\n",
       "  </tbody>\n",
       "</table>\n",
       "</div>"
      ],
      "text/plain": [
       "            Quantity      UnitPrice     CustomerID         exited  \\\n",
       "count  371764.000000  371764.000000  371764.000000  371764.000000   \n",
       "mean       13.098138       2.938928   15277.794830       0.700057   \n",
       "std       186.261721       5.022264    1710.030407       0.458233   \n",
       "min         1.000000       0.001000   12346.000000       0.000000   \n",
       "25%         2.000000       1.250000   13941.000000       0.000000   \n",
       "50%         6.000000       1.950000   15125.000000       1.000000   \n",
       "75%        12.000000       3.750000   16775.000000       1.000000   \n",
       "max     80995.000000     649.500000   18287.000000       1.000000   \n",
       "\n",
       "       InvoiceYear   InvoiceMonth   sales_amount  \n",
       "count     371764.0  371764.000000  371764.000000  \n",
       "mean        2011.0       7.303803      24.210206  \n",
       "std            0.0       3.323274     321.813590  \n",
       "min         2011.0       1.000000       0.001000  \n",
       "25%         2011.0       5.000000       4.950000  \n",
       "50%         2011.0       8.000000      12.480000  \n",
       "75%         2011.0      10.000000      19.800000  \n",
       "max         2011.0      12.000000  168469.600000  "
      ]
     },
     "execution_count": 199,
     "metadata": {},
     "output_type": "execute_result"
    }
   ],
   "source": [
    "sales_2011.describe()"
   ]
  },
  {
   "cell_type": "code",
   "execution_count": null,
   "id": "25a78db7",
   "metadata": {},
   "outputs": [],
   "source": []
  }
 ],
 "metadata": {
  "kernelspec": {
   "display_name": "Python 3 (ipykernel)",
   "language": "python",
   "name": "python3"
  },
  "language_info": {
   "codemirror_mode": {
    "name": "ipython",
    "version": 3
   },
   "file_extension": ".py",
   "mimetype": "text/x-python",
   "name": "python",
   "nbconvert_exporter": "python",
   "pygments_lexer": "ipython3",
   "version": "3.9.12"
  }
 },
 "nbformat": 4,
 "nbformat_minor": 5
}
